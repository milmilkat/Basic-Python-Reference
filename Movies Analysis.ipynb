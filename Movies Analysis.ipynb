{
 "cells": [
  {
   "cell_type": "code",
   "execution_count": 1,
   "metadata": {},
   "outputs": [],
   "source": [
    "from matplotlib import pyplot as plt\n",
    "import numpy as np\n",
    "import pandas as pd\n",
    "import seaborn as sns"
   ]
  },
  {
   "cell_type": "code",
   "execution_count": 2,
   "metadata": {},
   "outputs": [
    {
     "name": "stdout",
     "output_type": "stream",
     "text": [
      "C:\\Users\\mkatebi\\Desktop\\test\n"
     ]
    }
   ],
   "source": [
    "import os\n",
    "print(os.getcwd())"
   ]
  },
  {
   "cell_type": "code",
   "execution_count": 3,
   "metadata": {},
   "outputs": [],
   "source": [
    "data = pd.read_csv(\"C:\\\\Users\\\\mkatebi\\\\Desktop\\\\test\\\\Dataset.csv\",encoding='latin1')"
   ]
  },
  {
   "cell_type": "code",
   "execution_count": 4,
   "metadata": {},
   "outputs": [
    {
     "data": {
      "text/html": [
       "<div>\n",
       "<style scoped>\n",
       "    .dataframe tbody tr th:only-of-type {\n",
       "        vertical-align: middle;\n",
       "    }\n",
       "\n",
       "    .dataframe tbody tr th {\n",
       "        vertical-align: top;\n",
       "    }\n",
       "\n",
       "    .dataframe thead th {\n",
       "        text-align: right;\n",
       "    }\n",
       "</style>\n",
       "<table border=\"1\" class=\"dataframe\">\n",
       "  <thead>\n",
       "    <tr style=\"text-align: right;\">\n",
       "      <th></th>\n",
       "      <th>Day of Week</th>\n",
       "      <th>Director</th>\n",
       "      <th>Genre</th>\n",
       "      <th>Movie Title</th>\n",
       "      <th>Release Date</th>\n",
       "      <th>Studio</th>\n",
       "      <th>Adjusted Gross ($mill)</th>\n",
       "      <th>Budget ($mill)</th>\n",
       "      <th>Gross ($mill)</th>\n",
       "      <th>IMDb Rating</th>\n",
       "      <th>MovieLens Rating</th>\n",
       "      <th>Overseas ($mill)</th>\n",
       "      <th>Overseas%</th>\n",
       "      <th>Profit ($mill)</th>\n",
       "      <th>Profit%</th>\n",
       "      <th>Runtime (min)</th>\n",
       "      <th>US ($mill)</th>\n",
       "      <th>Gross % US</th>\n",
       "    </tr>\n",
       "  </thead>\n",
       "  <tbody>\n",
       "    <tr>\n",
       "      <th>0</th>\n",
       "      <td>Friday</td>\n",
       "      <td>Brad Bird</td>\n",
       "      <td>action</td>\n",
       "      <td>Tomorrowland</td>\n",
       "      <td>22/05/2015</td>\n",
       "      <td>Buena Vista Studios</td>\n",
       "      <td>202.1</td>\n",
       "      <td>170.0</td>\n",
       "      <td>202.1</td>\n",
       "      <td>6.7</td>\n",
       "      <td>3.26</td>\n",
       "      <td>111.9</td>\n",
       "      <td>55.4</td>\n",
       "      <td>32.1</td>\n",
       "      <td>18.9</td>\n",
       "      <td>130</td>\n",
       "      <td>90.2</td>\n",
       "      <td>44.6</td>\n",
       "    </tr>\n",
       "    <tr>\n",
       "      <th>1</th>\n",
       "      <td>Friday</td>\n",
       "      <td>Scott Waugh</td>\n",
       "      <td>action</td>\n",
       "      <td>Need for Speed</td>\n",
       "      <td>14/03/2014</td>\n",
       "      <td>Buena Vista Studios</td>\n",
       "      <td>204.2</td>\n",
       "      <td>66.0</td>\n",
       "      <td>203.3</td>\n",
       "      <td>6.6</td>\n",
       "      <td>2.97</td>\n",
       "      <td>159.7</td>\n",
       "      <td>78.6</td>\n",
       "      <td>137.3</td>\n",
       "      <td>208.0</td>\n",
       "      <td>132</td>\n",
       "      <td>43.6</td>\n",
       "      <td>21.4</td>\n",
       "    </tr>\n",
       "    <tr>\n",
       "      <th>2</th>\n",
       "      <td>Friday</td>\n",
       "      <td>Patrick Hughes</td>\n",
       "      <td>action</td>\n",
       "      <td>The Expendables 3</td>\n",
       "      <td>15/08/2014</td>\n",
       "      <td>Lionsgate</td>\n",
       "      <td>207.1</td>\n",
       "      <td>100.0</td>\n",
       "      <td>206.2</td>\n",
       "      <td>6.1</td>\n",
       "      <td>2.93</td>\n",
       "      <td>166.9</td>\n",
       "      <td>80.9</td>\n",
       "      <td>106.2</td>\n",
       "      <td>106.2</td>\n",
       "      <td>126</td>\n",
       "      <td>39.3</td>\n",
       "      <td>19.1</td>\n",
       "    </tr>\n",
       "    <tr>\n",
       "      <th>3</th>\n",
       "      <td>Friday</td>\n",
       "      <td>Phil Lord, Chris Miller</td>\n",
       "      <td>comedy</td>\n",
       "      <td>21 Jump Street</td>\n",
       "      <td>16/03/2012</td>\n",
       "      <td>Sony</td>\n",
       "      <td>208.8</td>\n",
       "      <td>42.0</td>\n",
       "      <td>201.6</td>\n",
       "      <td>7.2</td>\n",
       "      <td>3.62</td>\n",
       "      <td>63.1</td>\n",
       "      <td>31.3</td>\n",
       "      <td>159.6</td>\n",
       "      <td>380.0</td>\n",
       "      <td>109</td>\n",
       "      <td>138.4</td>\n",
       "      <td>68.7</td>\n",
       "    </tr>\n",
       "    <tr>\n",
       "      <th>4</th>\n",
       "      <td>Friday</td>\n",
       "      <td>Roland Emmerich</td>\n",
       "      <td>action</td>\n",
       "      <td>White House Down</td>\n",
       "      <td>28/06/2013</td>\n",
       "      <td>Sony</td>\n",
       "      <td>209.7</td>\n",
       "      <td>150.0</td>\n",
       "      <td>205.4</td>\n",
       "      <td>8.0</td>\n",
       "      <td>3.65</td>\n",
       "      <td>132.3</td>\n",
       "      <td>64.4</td>\n",
       "      <td>55.4</td>\n",
       "      <td>36.9</td>\n",
       "      <td>131</td>\n",
       "      <td>73.1</td>\n",
       "      <td>35.6</td>\n",
       "    </tr>\n",
       "  </tbody>\n",
       "</table>\n",
       "</div>"
      ],
      "text/plain": [
       "  Day of Week                 Director   Genre        Movie Title  \\\n",
       "0      Friday                Brad Bird  action       Tomorrowland   \n",
       "1      Friday              Scott Waugh  action     Need for Speed   \n",
       "2      Friday           Patrick Hughes  action  The Expendables 3   \n",
       "3      Friday  Phil Lord, Chris Miller  comedy     21 Jump Street   \n",
       "4      Friday          Roland Emmerich  action   White House Down   \n",
       "\n",
       "  Release Date               Studio Adjusted Gross ($mill)  Budget ($mill)  \\\n",
       "0   22/05/2015  Buena Vista Studios                  202.1           170.0   \n",
       "1   14/03/2014  Buena Vista Studios                  204.2            66.0   \n",
       "2   15/08/2014            Lionsgate                  207.1           100.0   \n",
       "3   16/03/2012                 Sony                  208.8            42.0   \n",
       "4   28/06/2013                 Sony                  209.7           150.0   \n",
       "\n",
       "  Gross ($mill)  IMDb Rating  MovieLens Rating Overseas ($mill)  Overseas%  \\\n",
       "0         202.1          6.7              3.26            111.9       55.4   \n",
       "1         203.3          6.6              2.97            159.7       78.6   \n",
       "2         206.2          6.1              2.93            166.9       80.9   \n",
       "3         201.6          7.2              3.62             63.1       31.3   \n",
       "4         205.4          8.0              3.65            132.3       64.4   \n",
       "\n",
       "  Profit ($mill)  Profit%  Runtime (min)  US ($mill)  Gross % US  \n",
       "0           32.1     18.9            130        90.2        44.6  \n",
       "1          137.3    208.0            132        43.6        21.4  \n",
       "2          106.2    106.2            126        39.3        19.1  \n",
       "3          159.6    380.0            109       138.4        68.7  \n",
       "4           55.4     36.9            131        73.1        35.6  "
      ]
     },
     "execution_count": 4,
     "metadata": {},
     "output_type": "execute_result"
    }
   ],
   "source": [
    "data.head()"
   ]
  },
  {
   "cell_type": "code",
   "execution_count": 5,
   "metadata": {},
   "outputs": [],
   "source": [
    "data.columns = ['DayOfWeek','Director','Genre','MovieTitle','ReleaseDate','Studio','AdjestedGrossMillion','BudgetMillion','GrossMillion','IMDBRating','MovieLensRating','OverseasMillion','OverseasPercentage','ProfitMillion','ProfitPercentage','RuntimeMinute','USMillion','GrossUSPercentage']"
   ]
  },
  {
   "cell_type": "code",
   "execution_count": 6,
   "metadata": {},
   "outputs": [
    {
     "data": {
      "text/html": [
       "<div>\n",
       "<style scoped>\n",
       "    .dataframe tbody tr th:only-of-type {\n",
       "        vertical-align: middle;\n",
       "    }\n",
       "\n",
       "    .dataframe tbody tr th {\n",
       "        vertical-align: top;\n",
       "    }\n",
       "\n",
       "    .dataframe thead th {\n",
       "        text-align: right;\n",
       "    }\n",
       "</style>\n",
       "<table border=\"1\" class=\"dataframe\">\n",
       "  <thead>\n",
       "    <tr style=\"text-align: right;\">\n",
       "      <th></th>\n",
       "      <th>DayOfWeek</th>\n",
       "      <th>Director</th>\n",
       "      <th>Genre</th>\n",
       "      <th>MovieTitle</th>\n",
       "      <th>ReleaseDate</th>\n",
       "      <th>Studio</th>\n",
       "      <th>AdjestedGrossMillion</th>\n",
       "      <th>BudgetMillion</th>\n",
       "      <th>GrossMillion</th>\n",
       "      <th>IMDBRating</th>\n",
       "      <th>MovieLensRating</th>\n",
       "      <th>OverseasMillion</th>\n",
       "      <th>OverseasPercentage</th>\n",
       "      <th>ProfitMillion</th>\n",
       "      <th>ProfitPercentage</th>\n",
       "      <th>RuntimeMinute</th>\n",
       "      <th>USMillion</th>\n",
       "      <th>GrossUSPercentage</th>\n",
       "    </tr>\n",
       "  </thead>\n",
       "  <tbody>\n",
       "    <tr>\n",
       "      <th>0</th>\n",
       "      <td>Friday</td>\n",
       "      <td>Brad Bird</td>\n",
       "      <td>action</td>\n",
       "      <td>Tomorrowland</td>\n",
       "      <td>22/05/2015</td>\n",
       "      <td>Buena Vista Studios</td>\n",
       "      <td>202.1</td>\n",
       "      <td>170.0</td>\n",
       "      <td>202.1</td>\n",
       "      <td>6.7</td>\n",
       "      <td>3.26</td>\n",
       "      <td>111.9</td>\n",
       "      <td>55.4</td>\n",
       "      <td>32.1</td>\n",
       "      <td>18.9</td>\n",
       "      <td>130</td>\n",
       "      <td>90.2</td>\n",
       "      <td>44.6</td>\n",
       "    </tr>\n",
       "    <tr>\n",
       "      <th>1</th>\n",
       "      <td>Friday</td>\n",
       "      <td>Scott Waugh</td>\n",
       "      <td>action</td>\n",
       "      <td>Need for Speed</td>\n",
       "      <td>14/03/2014</td>\n",
       "      <td>Buena Vista Studios</td>\n",
       "      <td>204.2</td>\n",
       "      <td>66.0</td>\n",
       "      <td>203.3</td>\n",
       "      <td>6.6</td>\n",
       "      <td>2.97</td>\n",
       "      <td>159.7</td>\n",
       "      <td>78.6</td>\n",
       "      <td>137.3</td>\n",
       "      <td>208.0</td>\n",
       "      <td>132</td>\n",
       "      <td>43.6</td>\n",
       "      <td>21.4</td>\n",
       "    </tr>\n",
       "    <tr>\n",
       "      <th>2</th>\n",
       "      <td>Friday</td>\n",
       "      <td>Patrick Hughes</td>\n",
       "      <td>action</td>\n",
       "      <td>The Expendables 3</td>\n",
       "      <td>15/08/2014</td>\n",
       "      <td>Lionsgate</td>\n",
       "      <td>207.1</td>\n",
       "      <td>100.0</td>\n",
       "      <td>206.2</td>\n",
       "      <td>6.1</td>\n",
       "      <td>2.93</td>\n",
       "      <td>166.9</td>\n",
       "      <td>80.9</td>\n",
       "      <td>106.2</td>\n",
       "      <td>106.2</td>\n",
       "      <td>126</td>\n",
       "      <td>39.3</td>\n",
       "      <td>19.1</td>\n",
       "    </tr>\n",
       "    <tr>\n",
       "      <th>3</th>\n",
       "      <td>Friday</td>\n",
       "      <td>Phil Lord, Chris Miller</td>\n",
       "      <td>comedy</td>\n",
       "      <td>21 Jump Street</td>\n",
       "      <td>16/03/2012</td>\n",
       "      <td>Sony</td>\n",
       "      <td>208.8</td>\n",
       "      <td>42.0</td>\n",
       "      <td>201.6</td>\n",
       "      <td>7.2</td>\n",
       "      <td>3.62</td>\n",
       "      <td>63.1</td>\n",
       "      <td>31.3</td>\n",
       "      <td>159.6</td>\n",
       "      <td>380.0</td>\n",
       "      <td>109</td>\n",
       "      <td>138.4</td>\n",
       "      <td>68.7</td>\n",
       "    </tr>\n",
       "    <tr>\n",
       "      <th>4</th>\n",
       "      <td>Friday</td>\n",
       "      <td>Roland Emmerich</td>\n",
       "      <td>action</td>\n",
       "      <td>White House Down</td>\n",
       "      <td>28/06/2013</td>\n",
       "      <td>Sony</td>\n",
       "      <td>209.7</td>\n",
       "      <td>150.0</td>\n",
       "      <td>205.4</td>\n",
       "      <td>8.0</td>\n",
       "      <td>3.65</td>\n",
       "      <td>132.3</td>\n",
       "      <td>64.4</td>\n",
       "      <td>55.4</td>\n",
       "      <td>36.9</td>\n",
       "      <td>131</td>\n",
       "      <td>73.1</td>\n",
       "      <td>35.6</td>\n",
       "    </tr>\n",
       "  </tbody>\n",
       "</table>\n",
       "</div>"
      ],
      "text/plain": [
       "  DayOfWeek                 Director   Genre         MovieTitle ReleaseDate  \\\n",
       "0    Friday                Brad Bird  action       Tomorrowland  22/05/2015   \n",
       "1    Friday              Scott Waugh  action     Need for Speed  14/03/2014   \n",
       "2    Friday           Patrick Hughes  action  The Expendables 3  15/08/2014   \n",
       "3    Friday  Phil Lord, Chris Miller  comedy     21 Jump Street  16/03/2012   \n",
       "4    Friday          Roland Emmerich  action   White House Down  28/06/2013   \n",
       "\n",
       "                Studio AdjestedGrossMillion  BudgetMillion GrossMillion  \\\n",
       "0  Buena Vista Studios                202.1          170.0        202.1   \n",
       "1  Buena Vista Studios                204.2           66.0        203.3   \n",
       "2            Lionsgate                207.1          100.0        206.2   \n",
       "3                 Sony                208.8           42.0        201.6   \n",
       "4                 Sony                209.7          150.0        205.4   \n",
       "\n",
       "   IMDBRating  MovieLensRating OverseasMillion  OverseasPercentage  \\\n",
       "0         6.7             3.26           111.9                55.4   \n",
       "1         6.6             2.97           159.7                78.6   \n",
       "2         6.1             2.93           166.9                80.9   \n",
       "3         7.2             3.62            63.1                31.3   \n",
       "4         8.0             3.65           132.3                64.4   \n",
       "\n",
       "  ProfitMillion  ProfitPercentage  RuntimeMinute  USMillion  GrossUSPercentage  \n",
       "0          32.1              18.9            130       90.2               44.6  \n",
       "1         137.3             208.0            132       43.6               21.4  \n",
       "2         106.2             106.2            126       39.3               19.1  \n",
       "3         159.6             380.0            109      138.4               68.7  \n",
       "4          55.4              36.9            131       73.1               35.6  "
      ]
     },
     "execution_count": 6,
     "metadata": {},
     "output_type": "execute_result"
    }
   ],
   "source": [
    "data.head()"
   ]
  },
  {
   "cell_type": "code",
   "execution_count": 7,
   "metadata": {},
   "outputs": [
    {
     "name": "stdout",
     "output_type": "stream",
     "text": [
      "<class 'pandas.core.frame.DataFrame'>\n",
      "RangeIndex: 608 entries, 0 to 607\n",
      "Data columns (total 18 columns):\n",
      "DayOfWeek               608 non-null object\n",
      "Director                608 non-null object\n",
      "Genre                   608 non-null object\n",
      "MovieTitle              608 non-null object\n",
      "ReleaseDate             608 non-null object\n",
      "Studio                  608 non-null object\n",
      "AdjestedGrossMillion    608 non-null object\n",
      "BudgetMillion           608 non-null float64\n",
      "GrossMillion            608 non-null object\n",
      "IMDBRating              608 non-null float64\n",
      "MovieLensRating         608 non-null float64\n",
      "OverseasMillion         608 non-null object\n",
      "OverseasPercentage      608 non-null float64\n",
      "ProfitMillion           608 non-null object\n",
      "ProfitPercentage        608 non-null float64\n",
      "RuntimeMinute           608 non-null int64\n",
      "USMillion               608 non-null float64\n",
      "GrossUSPercentage       608 non-null float64\n",
      "dtypes: float64(7), int64(1), object(10)\n",
      "memory usage: 85.6+ KB\n"
     ]
    }
   ],
   "source": [
    "data.info()"
   ]
  },
  {
   "cell_type": "code",
   "execution_count": 8,
   "metadata": {},
   "outputs": [],
   "source": [
    "data.DayOfWeek = data.DayOfWeek.astype('category')\n",
    "data.Director = data.Director.astype('category')\n",
    "data.Genre = data.Genre.astype('category')\n",
    "data.MovieTitle = data.MovieTitle.astype('category')\n",
    "data.ReleaseDate = data.ReleaseDate.astype('category')\n",
    "data.Studio = data.Studio.astype('category')\n",
    "data.AdjestedGrossMillion = data.AdjestedGrossMillion.astype('category')\n",
    "data.GrossMillion = data.GrossMillion.astype('category')\n",
    "data.OverseasMillion = data.OverseasMillion.astype('category')\n",
    "data.ProfitMillion = data.ProfitMillion.astype('category')"
   ]
  },
  {
   "cell_type": "code",
   "execution_count": 11,
   "metadata": {},
   "outputs": [
    {
     "data": {
      "text/plain": [
       "[action, comedy, adventure, horror, animation, ..., romance, fantasy, mystery, thriller, documentary]\n",
       "Length: 15\n",
       "Categories (15, object): [action, comedy, adventure, horror, ..., fantasy, mystery, thriller, documentary]"
      ]
     },
     "execution_count": 11,
     "metadata": {},
     "output_type": "execute_result"
    }
   ],
   "source": [
    "#sub_data = data[data.Genre.isin(genre_filters)]\n",
    "sub_data = data\n",
    "sub_data.Genre.unique()       "
   ]
  },
  {
   "cell_type": "code",
   "execution_count": 12,
   "metadata": {},
   "outputs": [],
   "source": [
    "genre_filters = ['action','comedy','adventure','drama','animation']\n",
    "genre_remove = [gen for gen in data.Genre if gen not in genre_filters]                                                          # list unique"
   ]
  },
  {
   "cell_type": "code",
   "execution_count": 13,
   "metadata": {},
   "outputs": [
    {
     "data": {
      "text/plain": [
       "{'biography',\n",
       " 'crime',\n",
       " 'documentary',\n",
       " 'fantasy',\n",
       " 'horror',\n",
       " 'musical',\n",
       " 'mystery',\n",
       " 'romance',\n",
       " 'sci-fi',\n",
       " 'thriller'}"
      ]
     },
     "execution_count": 13,
     "metadata": {},
     "output_type": "execute_result"
    }
   ],
   "source": [
    "set(genre_remove) "
   ]
  },
  {
   "cell_type": "code",
   "execution_count": 14,
   "metadata": {},
   "outputs": [
    {
     "data": {
      "text/plain": [
       "Index(['action', 'adventure', 'animation', 'biography', 'comedy', 'crime',\n",
       "       'documentary', 'drama', 'fantasy', 'horror', 'musical', 'mystery',\n",
       "       'romance', 'sci-fi', 'thriller'],\n",
       "      dtype='object')"
      ]
     },
     "execution_count": 14,
     "metadata": {},
     "output_type": "execute_result"
    }
   ],
   "source": [
    "sub_data.Genre.cat.categories"
   ]
  },
  {
   "cell_type": "code",
   "execution_count": 15,
   "metadata": {},
   "outputs": [
    {
     "data": {
      "text/plain": [
       "Index(['action', 'adventure', 'animation', 'comedy', 'drama'], dtype='object')"
      ]
     },
     "execution_count": 15,
     "metadata": {},
     "output_type": "execute_result"
    }
   ],
   "source": [
    "sub_data.Genre.cat.remove_categories(genre_remove,inplace=True)\n",
    "sub_data.Genre.cat.categories"
   ]
  },
  {
   "cell_type": "code",
   "execution_count": 16,
   "metadata": {},
   "outputs": [
    {
     "data": {
      "text/plain": [
       "{'Art House Studios',\n",
       " 'Colombia Pictures',\n",
       " 'Dimension Films',\n",
       " 'Disney',\n",
       " 'DreamWorks',\n",
       " 'Fox Searchlight Pictures',\n",
       " 'Gramercy Pictures',\n",
       " 'IFC',\n",
       " 'Lionsgate',\n",
       " 'Lionsgate Films',\n",
       " 'Lionsgate/Summit',\n",
       " 'MGM',\n",
       " 'MiraMax',\n",
       " 'New Line Cinema',\n",
       " 'New Market Films',\n",
       " 'Orion',\n",
       " 'Pacific Data/DreamWorks',\n",
       " 'Path_ Distribution',\n",
       " 'Relativity Media',\n",
       " 'Revolution Studios',\n",
       " 'Screen Gems',\n",
       " 'Sony Picture Classics',\n",
       " 'StudioCanal',\n",
       " 'Summit Entertainment',\n",
       " 'TriStar',\n",
       " 'UA Entertainment',\n",
       " 'USA',\n",
       " 'Vestron Pictures',\n",
       " 'WB/New Line',\n",
       " 'Weinstein Company'}"
      ]
     },
     "execution_count": 16,
     "metadata": {},
     "output_type": "execute_result"
    }
   ],
   "source": [
    "studio_filter = ['Buena Vista Studios','Fox','Paramount Pictures','Sony','Universal','WB']\n",
    "studio_remove = [stdo for stdo in data.Studio if stdo not in studio_filter]\n",
    "set(studio_remove)"
   ]
  },
  {
   "cell_type": "code",
   "execution_count": 17,
   "metadata": {},
   "outputs": [],
   "source": [
    "sub_data.Studio.cat.remove_categories(studio_remove,inplace= True)"
   ]
  },
  {
   "cell_type": "code",
   "execution_count": 18,
   "metadata": {},
   "outputs": [
    {
     "data": {
      "text/plain": [
       "Index(['Buena Vista Studios', 'Fox', 'Paramount Pictures', 'Sony', 'Universal',\n",
       "       'WB'],\n",
       "      dtype='object')"
      ]
     },
     "execution_count": 18,
     "metadata": {},
     "output_type": "execute_result"
    }
   ],
   "source": [
    "sub_data.Studio.cat.categories"
   ]
  },
  {
   "cell_type": "code",
   "execution_count": 65,
   "metadata": {},
   "outputs": [
    {
     "data": {
      "image/png": "[encoded data removed]",
      "text/plain": [
       "<Figure size 432x288 with 1 Axes>"
      ]
     },
     "metadata": {},
     "output_type": "display_data"
    }
   ],
   "source": [
    "vis1= sns.boxplot(data= sub_data, x= sub_data.Genre, y= \"GrossUSPercentage\", orient= 'v', color= 'lightgray', fliersize=0)\n",
    "sns.set(style='darkgrid',palette='muted',color_codes=True)\n",
    "sns.stripplot(data= sub_data, x= sub_data.Genre, y= sub_data.GrossUSPercentage, jitter= True, size= 6, linewidth= 0, \\\n",
    "              hue= sub_data.Studio, alpha= 0.7)\n",
    "plt.setp(vis1.artists, alpha= 0.5)\n",
    "plt.title(\"Gross Percentage by Genre\", fontsize= 30)\n",
    "vis1.set_xlabel(\"Genre\",fontsize= 20)\n",
    "vis1.set_ylabel(\"Gross Percentage\", fontsize= 20)\n",
    "plt.xticks(rotation='vertical')\n",
    "vis1.legend(bbox_to_anchor=(1,0.5), loc='center left')\n",
    "plt.show()"
   ]
  },
  {
   "cell_type": "code",
   "execution_count": null,
   "metadata": {},
   "outputs": [],
   "source": []
  }
 ],
 "metadata": {
  "kernelspec": {
   "display_name": "Python 3",
   "language": "python",
   "name": "python3"
  },
  "language_info": {
   "codemirror_mode": {
    "name": "ipython",
    "version": 3
   },
   "file_extension": ".py",
   "mimetype": "text/x-python",
   "name": "python",
   "nbconvert_exporter": "python",
   "pygments_lexer": "ipython3",
   "version": "3.7.1"
  }
 },
 "nbformat": 4,
 "nbformat_minor": 2
}
